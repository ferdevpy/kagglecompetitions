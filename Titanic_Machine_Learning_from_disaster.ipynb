{
  "nbformat": 4,
  "nbformat_minor": 0,
  "metadata": {
    "colab": {
      "name": "Titanic: Machine Learning from disaster.ipynb",
      "provenance": [],
      "authorship_tag": "ABX9TyMxOLI99k0QsyWt0lf7Bsbj",
      "include_colab_link": true
    },
    "kernelspec": {
      "name": "python3",
      "display_name": "Python 3"
    },
    "language_info": {
      "name": "python"
    }
  },
  "cells": [
    {
      "cell_type": "markdown",
      "metadata": {
        "id": "view-in-github",
        "colab_type": "text"
      },
      "source": [
        "<a href=\"https://colab.research.google.com/github/ferdevpy/Pylab/blob/main/Titanic_Machine_Learning_from_disaster.ipynb\" target=\"_parent\"><img src=\"https://colab.research.google.com/assets/colab-badge.svg\" alt=\"Open In Colab\"/></a>"
      ]
    },
    {
      "cell_type": "markdown",
      "metadata": {
        "id": "YMoFzZTLRjkH"
      },
      "source": [
        "#Titanic - Machine Learning from Disaster\n"
      ]
    },
    {
      "cell_type": "markdown",
      "metadata": {
        "id": "g_Z9SqcZRuNZ"
      },
      "source": [
        "##Aquisição de Dados\n"
      ]
    },
    {
      "cell_type": "code",
      "metadata": {
        "id": "1A9-lypBRirw"
      },
      "source": [
        "import pandas as pd\n"
      ],
      "execution_count": 162,
      "outputs": []
    },
    {
      "cell_type": "code",
      "metadata": {
        "colab": {
          "base_uri": "https://localhost:8080/"
        },
        "id": "EVlApZWFRtyb",
        "outputId": "5638e38a-c8b4-4bae-8971-fbb2c95a2732"
      },
      "source": [
        "df_train=pd.read_csv('https://raw.githubusercontent.com/ferdevpy/datasets/ferdevpy-master/train.csv')\n",
        "df_test=pd.read_csv('https://raw.githubusercontent.com/ferdevpy/datasets/ferdevpy-master/test.csv')\n",
        "\n",
        "print(df_train.info())"
      ],
      "execution_count": 163,
      "outputs": [
        {
          "output_type": "stream",
          "text": [
            "<class 'pandas.core.frame.DataFrame'>\n",
            "RangeIndex: 891 entries, 0 to 890\n",
            "Data columns (total 12 columns):\n",
            " #   Column       Non-Null Count  Dtype  \n",
            "---  ------       --------------  -----  \n",
            " 0   PassengerId  891 non-null    int64  \n",
            " 1   Survived     891 non-null    int64  \n",
            " 2   Pclass       891 non-null    int64  \n",
            " 3   Name         891 non-null    object \n",
            " 4   Sex          891 non-null    object \n",
            " 5   Age          714 non-null    float64\n",
            " 6   SibSp        891 non-null    int64  \n",
            " 7   Parch        891 non-null    int64  \n",
            " 8   Ticket       891 non-null    object \n",
            " 9   Fare         891 non-null    float64\n",
            " 10  Cabin        204 non-null    object \n",
            " 11  Embarked     889 non-null    object \n",
            "dtypes: float64(2), int64(5), object(5)\n",
            "memory usage: 83.7+ KB\n",
            "None\n"
          ],
          "name": "stdout"
        }
      ]
    },
    {
      "cell_type": "markdown",
      "metadata": {
        "id": "orEgaVW_TRYs"
      },
      "source": [
        "PassengerId: não altera o target <br>\n",
        "<br>\n",
        "Survived: target <br>\n",
        "1= Survived <br>\n",
        "0= Not Survived <br>\n",
        "<br>\n",
        "Pclass: Classe socioeconômica, varia de 1 a 3. <br>\n",
        "1 = Classe alta<br>\n",
        "2= Classe média<br>\n",
        "3= Classe baixa<br>\n",
        "<br>\n",
        "SibSp = Número total de irmãos e cônjuges dos passageiros. <br>\n",
        "<br>\n",
        "Parch = número de pais e filhos dos passageiros. <br>\n",
        "<br>\n",
        "Ticket = número do bilhete do passageiro<br>\n",
        "<br>\n",
        "Fare = tarifa do passageiro<br>\n",
        "<br>\n",
        "Cabin = número da cabine do passageiro<br>\n",
        "<br>\n",
        "Embarked = porto de embarque do passageiro, variável categórica que possui 3 valores únicos (C, Q ou S):<br>\n",
        "C = Cherbourg<br>\n",
        "Q = Queenstown<br>\n",
        "S = Southampton<br>\n",
        "\n"
      ]
    },
    {
      "cell_type": "code",
      "metadata": {
        "id": "xoSb-FgSVPtI"
      },
      "source": [
        "#Importando Bibliotecas\n",
        "import pandas as pd \n",
        "import matplotlib \n",
        "import numpy as np \n",
        "import scipy as sp \n",
        "import IPython\n",
        "from IPython import display \n",
        "import sklearn \n",
        "import random\n",
        "import time\n",
        "import warnings\n",
        "warnings.filterwarnings('ignore')\n"
      ],
      "execution_count": 164,
      "outputs": []
    },
    {
      "cell_type": "code",
      "metadata": {
        "id": "BTbBX7JiVdxA"
      },
      "source": [
        "# Modelos preditivos\n",
        "from sklearn import svm, tree, linear_model, neighbors, naive_bayes, ensemble, discriminant_analysis, gaussian_process\n",
        "from xgboost import XGBClassifier\n",
        "# Auxiliares\n",
        "from sklearn.preprocessing import OneHotEncoder, LabelEncoder\n",
        "from sklearn import feature_selection\n",
        "from sklearn import model_selection\n",
        "from sklearn import metrics\n",
        "from sklearn.calibration import CalibratedClassifierCV\n",
        "# DataViz\n",
        "import matplotlib as mpl\n",
        "import matplotlib.pyplot as plt\n",
        "import matplotlib.pylab as pylab\n",
        "import seaborn as sns\n",
        "from pandas.plotting import scatter_matrix\n",
        "\n",
        "# Dataviz Config\n",
        "mpl.style.use('ggplot')\n",
        "sns.set_style('white')\n",
        "pylab.rcParams['figure.figsize'] = 12,8"
      ],
      "execution_count": 165,
      "outputs": []
    },
    {
      "cell_type": "markdown",
      "metadata": {
        "id": "oM5CwLuTVhOr"
      },
      "source": [
        "##Preparando os dados utilizando os 4 C's: Corrigir, completar, criar e converter."
      ]
    },
    {
      "cell_type": "code",
      "metadata": {
        "id": "kWTeBcw3VfUB"
      },
      "source": [
        "data_raw=pd.read_csv('https://raw.githubusercontent.com/ferdevpy/datasets/ferdevpy-master/train.csv')\n",
        "data_val=pd.read_csv('https://raw.githubusercontent.com/ferdevpy/datasets/ferdevpy-master/test.csv')\n",
        "y_true=pd.read_csv('https://raw.githubusercontent.com/ferdevpy/datasets/ferdevpy-master/gender_submission.csv')\n",
        "#criando cópia dos dados\n",
        "data1=data_raw.copy(deep=True)\n",
        "#concatenando os datasets para altera-los juntos.\n",
        "data_cleaner= [data1,data_val]"
      ],
      "execution_count": 118,
      "outputs": []
    },
    {
      "cell_type": "code",
      "metadata": {
        "colab": {
          "base_uri": "https://localhost:8080/"
        },
        "id": "riI5TDSqWR7i",
        "outputId": "35e71187-6d63-4c76-be05-6d9b2dab1918"
      },
      "source": [
        "print('Null values Treino:\\n',data1.isnull().sum())\n",
        "print('Null values Test:\\n',data_val.isnull().sum())"
      ],
      "execution_count": 119,
      "outputs": [
        {
          "output_type": "stream",
          "text": [
            "Null values Treino:\n",
            " PassengerId      0\n",
            "Survived         0\n",
            "Pclass           0\n",
            "Name             0\n",
            "Sex              0\n",
            "Age            177\n",
            "SibSp            0\n",
            "Parch            0\n",
            "Ticket           0\n",
            "Fare             0\n",
            "Cabin          687\n",
            "Embarked         2\n",
            "dtype: int64\n",
            "Null values Test:\n",
            " PassengerId      0\n",
            "Pclass           0\n",
            "Name             0\n",
            "Sex              0\n",
            "Age             86\n",
            "SibSp            0\n",
            "Parch            0\n",
            "Ticket           0\n",
            "Fare             1\n",
            "Cabin          327\n",
            "Embarked         0\n",
            "dtype: int64\n"
          ],
          "name": "stdout"
        }
      ]
    },
    {
      "cell_type": "code",
      "metadata": {
        "id": "5BFOuh_TWlDb"
      },
      "source": [
        "#Limpeza de dados\n",
        "\n",
        "for dataset in data_cleaner:\n",
        "  #substituindo os valores nulos em 'Age' pela mediana\n",
        "  dataset['Age'].fillna(dataset['Age'].median(),inplace=True)\n",
        "\n",
        "  #substituindo os campos nulos em 'Embarked' pela moda, uma vez que é a coluna\n",
        "  #é composta por str, logo, não possui mediana.\n",
        "\n",
        "  dataset['Embarked'].fillna(dataset['Embarked'].mode()[0],inplace=True)\n",
        "\n",
        "  #substituindo os valores nulos em 'Fare' pela mediana\n",
        "  dataset['Fare'].fillna(dataset['Fare'].median(),inplace=True)\n",
        "\n"
      ],
      "execution_count": 120,
      "outputs": []
    },
    {
      "cell_type": "code",
      "metadata": {
        "colab": {
          "base_uri": "https://localhost:8080/"
        },
        "id": "oY_t1CjTY_V4",
        "outputId": "c89c5c9d-566d-48fa-9593-d316e0d726c6"
      },
      "source": [
        "#dropando colunas para dataset de treino\n",
        "\n",
        "drop_column=['PassengerId','Cabin','Ticket']\n",
        "data1.drop(drop_column, axis=1, inplace=True)\n",
        "\n",
        "print(data1.isnull().sum())\n",
        "print(data_val.isnull().sum())"
      ],
      "execution_count": 121,
      "outputs": [
        {
          "output_type": "stream",
          "text": [
            "Survived    0\n",
            "Pclass      0\n",
            "Name        0\n",
            "Sex         0\n",
            "Age         0\n",
            "SibSp       0\n",
            "Parch       0\n",
            "Fare        0\n",
            "Embarked    0\n",
            "dtype: int64\n",
            "PassengerId      0\n",
            "Pclass           0\n",
            "Name             0\n",
            "Sex              0\n",
            "Age              0\n",
            "SibSp            0\n",
            "Parch            0\n",
            "Ticket           0\n",
            "Fare             0\n",
            "Cabin          327\n",
            "Embarked         0\n",
            "dtype: int64\n"
          ],
          "name": "stdout"
        }
      ]
    },
    {
      "cell_type": "markdown",
      "metadata": {
        "id": "RxFEiKphh_ub"
      },
      "source": [
        "#Criando novos Features"
      ]
    },
    {
      "cell_type": "code",
      "metadata": {
        "colab": {
          "base_uri": "https://localhost:8080/",
          "height": 0
        },
        "id": "pqeVx8NrcV9w",
        "outputId": "70762a19-365f-46db-a87f-5fc9a16dd6d4"
      },
      "source": [
        "\n",
        "for dataset in data_cleaner:\n",
        "  #feature nova, 'FamilySize'. É a soma de SibSp e Parch. É acrescido um porque em python tudo se inicia em 0.\n",
        "  dataset['FamilySize']=dataset['SibSp']+dataset['Parch'] +1\n",
        "\n",
        "  #feature nova, 'IsAlone'. Se o passageiro não tem família no navio, o valor é 1.\n",
        "  dataset['IsAlone']=1 \n",
        "  dataset['IsAlone'].loc[dataset['FamilySize']>1]=0 #se o tamanho da familia for maior que 1, IsAlone recebe 0\n",
        "\n",
        "  #feature nova, 'Title'. \n",
        "  dataset['Title']=dataset['Name'].str.split(', ',expand=True)[1].str.split('.',expand=True)[0]\n",
        "\n",
        "\n",
        "  #feature nova: FareBin, \"cortamos os dados em 4(quartil)\"; Segmentamos/classificamos em 4 grupos\n",
        "  dataset['FareBin'] = pd.qcut(dataset['Fare'], 4)\n",
        "\n",
        "  #feature nova: AgeBin para melhor distribuir os dados de idade por grupos, neste caso, 5. Segmentamos/classificamos em 5 grupos\n",
        "  dataset['AgeBin'] = pd.cut(dataset['Age'].astype(int), 5)\n",
        "\n",
        "data1.sample(10)\n"
      ],
      "execution_count": 122,
      "outputs": [
        {
          "output_type": "execute_result",
          "data": {
            "text/html": [
              "<div>\n",
              "<style scoped>\n",
              "    .dataframe tbody tr th:only-of-type {\n",
              "        vertical-align: middle;\n",
              "    }\n",
              "\n",
              "    .dataframe tbody tr th {\n",
              "        vertical-align: top;\n",
              "    }\n",
              "\n",
              "    .dataframe thead th {\n",
              "        text-align: right;\n",
              "    }\n",
              "</style>\n",
              "<table border=\"1\" class=\"dataframe\">\n",
              "  <thead>\n",
              "    <tr style=\"text-align: right;\">\n",
              "      <th></th>\n",
              "      <th>Survived</th>\n",
              "      <th>Pclass</th>\n",
              "      <th>Name</th>\n",
              "      <th>Sex</th>\n",
              "      <th>Age</th>\n",
              "      <th>SibSp</th>\n",
              "      <th>Parch</th>\n",
              "      <th>Fare</th>\n",
              "      <th>Embarked</th>\n",
              "      <th>FamilySize</th>\n",
              "      <th>IsAlone</th>\n",
              "      <th>Title</th>\n",
              "      <th>FareBin</th>\n",
              "      <th>AgeBin</th>\n",
              "    </tr>\n",
              "  </thead>\n",
              "  <tbody>\n",
              "    <tr>\n",
              "      <th>39</th>\n",
              "      <td>1</td>\n",
              "      <td>3</td>\n",
              "      <td>Nicola-Yarred, Miss. Jamila</td>\n",
              "      <td>female</td>\n",
              "      <td>14.0</td>\n",
              "      <td>1</td>\n",
              "      <td>0</td>\n",
              "      <td>11.2417</td>\n",
              "      <td>C</td>\n",
              "      <td>2</td>\n",
              "      <td>0</td>\n",
              "      <td>Miss</td>\n",
              "      <td>(7.91, 14.454]</td>\n",
              "      <td>(-0.08, 16.0]</td>\n",
              "    </tr>\n",
              "    <tr>\n",
              "      <th>75</th>\n",
              "      <td>0</td>\n",
              "      <td>3</td>\n",
              "      <td>Moen, Mr. Sigurd Hansen</td>\n",
              "      <td>male</td>\n",
              "      <td>25.0</td>\n",
              "      <td>0</td>\n",
              "      <td>0</td>\n",
              "      <td>7.6500</td>\n",
              "      <td>S</td>\n",
              "      <td>1</td>\n",
              "      <td>1</td>\n",
              "      <td>Mr</td>\n",
              "      <td>(-0.001, 7.91]</td>\n",
              "      <td>(16.0, 32.0]</td>\n",
              "    </tr>\n",
              "    <tr>\n",
              "      <th>476</th>\n",
              "      <td>0</td>\n",
              "      <td>2</td>\n",
              "      <td>Renouf, Mr. Peter Henry</td>\n",
              "      <td>male</td>\n",
              "      <td>34.0</td>\n",
              "      <td>1</td>\n",
              "      <td>0</td>\n",
              "      <td>21.0000</td>\n",
              "      <td>S</td>\n",
              "      <td>2</td>\n",
              "      <td>0</td>\n",
              "      <td>Mr</td>\n",
              "      <td>(14.454, 31.0]</td>\n",
              "      <td>(32.0, 48.0]</td>\n",
              "    </tr>\n",
              "    <tr>\n",
              "      <th>580</th>\n",
              "      <td>1</td>\n",
              "      <td>2</td>\n",
              "      <td>Christy, Miss. Julie Rachel</td>\n",
              "      <td>female</td>\n",
              "      <td>25.0</td>\n",
              "      <td>1</td>\n",
              "      <td>1</td>\n",
              "      <td>30.0000</td>\n",
              "      <td>S</td>\n",
              "      <td>3</td>\n",
              "      <td>0</td>\n",
              "      <td>Miss</td>\n",
              "      <td>(14.454, 31.0]</td>\n",
              "      <td>(16.0, 32.0]</td>\n",
              "    </tr>\n",
              "    <tr>\n",
              "      <th>595</th>\n",
              "      <td>0</td>\n",
              "      <td>3</td>\n",
              "      <td>Van Impe, Mr. Jean Baptiste</td>\n",
              "      <td>male</td>\n",
              "      <td>36.0</td>\n",
              "      <td>1</td>\n",
              "      <td>1</td>\n",
              "      <td>24.1500</td>\n",
              "      <td>S</td>\n",
              "      <td>3</td>\n",
              "      <td>0</td>\n",
              "      <td>Mr</td>\n",
              "      <td>(14.454, 31.0]</td>\n",
              "      <td>(32.0, 48.0]</td>\n",
              "    </tr>\n",
              "    <tr>\n",
              "      <th>29</th>\n",
              "      <td>0</td>\n",
              "      <td>3</td>\n",
              "      <td>Todoroff, Mr. Lalio</td>\n",
              "      <td>male</td>\n",
              "      <td>28.0</td>\n",
              "      <td>0</td>\n",
              "      <td>0</td>\n",
              "      <td>7.8958</td>\n",
              "      <td>S</td>\n",
              "      <td>1</td>\n",
              "      <td>1</td>\n",
              "      <td>Mr</td>\n",
              "      <td>(-0.001, 7.91]</td>\n",
              "      <td>(16.0, 32.0]</td>\n",
              "    </tr>\n",
              "    <tr>\n",
              "      <th>348</th>\n",
              "      <td>1</td>\n",
              "      <td>3</td>\n",
              "      <td>Coutts, Master. William Loch \"William\"</td>\n",
              "      <td>male</td>\n",
              "      <td>3.0</td>\n",
              "      <td>1</td>\n",
              "      <td>1</td>\n",
              "      <td>15.9000</td>\n",
              "      <td>S</td>\n",
              "      <td>3</td>\n",
              "      <td>0</td>\n",
              "      <td>Master</td>\n",
              "      <td>(14.454, 31.0]</td>\n",
              "      <td>(-0.08, 16.0]</td>\n",
              "    </tr>\n",
              "    <tr>\n",
              "      <th>70</th>\n",
              "      <td>0</td>\n",
              "      <td>2</td>\n",
              "      <td>Jenkin, Mr. Stephen Curnow</td>\n",
              "      <td>male</td>\n",
              "      <td>32.0</td>\n",
              "      <td>0</td>\n",
              "      <td>0</td>\n",
              "      <td>10.5000</td>\n",
              "      <td>S</td>\n",
              "      <td>1</td>\n",
              "      <td>1</td>\n",
              "      <td>Mr</td>\n",
              "      <td>(7.91, 14.454]</td>\n",
              "      <td>(16.0, 32.0]</td>\n",
              "    </tr>\n",
              "    <tr>\n",
              "      <th>598</th>\n",
              "      <td>0</td>\n",
              "      <td>3</td>\n",
              "      <td>Boulos, Mr. Hanna</td>\n",
              "      <td>male</td>\n",
              "      <td>28.0</td>\n",
              "      <td>0</td>\n",
              "      <td>0</td>\n",
              "      <td>7.2250</td>\n",
              "      <td>C</td>\n",
              "      <td>1</td>\n",
              "      <td>1</td>\n",
              "      <td>Mr</td>\n",
              "      <td>(-0.001, 7.91]</td>\n",
              "      <td>(16.0, 32.0]</td>\n",
              "    </tr>\n",
              "    <tr>\n",
              "      <th>103</th>\n",
              "      <td>0</td>\n",
              "      <td>3</td>\n",
              "      <td>Johansson, Mr. Gustaf Joel</td>\n",
              "      <td>male</td>\n",
              "      <td>33.0</td>\n",
              "      <td>0</td>\n",
              "      <td>0</td>\n",
              "      <td>8.6542</td>\n",
              "      <td>S</td>\n",
              "      <td>1</td>\n",
              "      <td>1</td>\n",
              "      <td>Mr</td>\n",
              "      <td>(7.91, 14.454]</td>\n",
              "      <td>(32.0, 48.0]</td>\n",
              "    </tr>\n",
              "  </tbody>\n",
              "</table>\n",
              "</div>"
            ],
            "text/plain": [
              "     Survived  Pclass  ...         FareBin         AgeBin\n",
              "39          1       3  ...  (7.91, 14.454]  (-0.08, 16.0]\n",
              "75          0       3  ...  (-0.001, 7.91]   (16.0, 32.0]\n",
              "476         0       2  ...  (14.454, 31.0]   (32.0, 48.0]\n",
              "580         1       2  ...  (14.454, 31.0]   (16.0, 32.0]\n",
              "595         0       3  ...  (14.454, 31.0]   (32.0, 48.0]\n",
              "29          0       3  ...  (-0.001, 7.91]   (16.0, 32.0]\n",
              "348         1       3  ...  (14.454, 31.0]  (-0.08, 16.0]\n",
              "70          0       2  ...  (7.91, 14.454]   (16.0, 32.0]\n",
              "598         0       3  ...  (-0.001, 7.91]   (16.0, 32.0]\n",
              "103         0       3  ...  (7.91, 14.454]   (32.0, 48.0]\n",
              "\n",
              "[10 rows x 14 columns]"
            ]
          },
          "metadata": {
            "tags": []
          },
          "execution_count": 122
        }
      ]
    },
    {
      "cell_type": "code",
      "metadata": {
        "colab": {
          "base_uri": "https://localhost:8080/"
        },
        "id": "l-3CkiQmgKku",
        "outputId": "05bc9448-9158-4450-881f-ba11ec1060d4"
      },
      "source": [
        "# Limpar Title names raros, ou seja, os que diferem dos mais frequentes.\n",
        "print(data1['Title'].value_counts())\n",
        "title_names=(data1['Title'].value_counts()<10) #Conta quantas vezes um title se repete, se for menor que 10 retorna True\n",
        "print('='*50)\n",
        "title_names"
      ],
      "execution_count": 123,
      "outputs": [
        {
          "output_type": "stream",
          "text": [
            "Mr              517\n",
            "Miss            182\n",
            "Mrs             125\n",
            "Master           40\n",
            "Dr                7\n",
            "Rev               6\n",
            "Mlle              2\n",
            "Major             2\n",
            "Col               2\n",
            "the Countess      1\n",
            "Mme               1\n",
            "Capt              1\n",
            "Sir               1\n",
            "Ms                1\n",
            "Lady              1\n",
            "Jonkheer          1\n",
            "Don               1\n",
            "Name: Title, dtype: int64\n",
            "==================================================\n"
          ],
          "name": "stdout"
        },
        {
          "output_type": "execute_result",
          "data": {
            "text/plain": [
              "Mr              False\n",
              "Miss            False\n",
              "Mrs             False\n",
              "Master          False\n",
              "Dr               True\n",
              "Rev              True\n",
              "Mlle             True\n",
              "Major            True\n",
              "Col              True\n",
              "the Countess     True\n",
              "Mme              True\n",
              "Capt             True\n",
              "Sir              True\n",
              "Ms               True\n",
              "Lady             True\n",
              "Jonkheer         True\n",
              "Don              True\n",
              "Name: Title, dtype: bool"
            ]
          },
          "metadata": {
            "tags": []
          },
          "execution_count": 123
        }
      ]
    },
    {
      "cell_type": "code",
      "metadata": {
        "colab": {
          "base_uri": "https://localhost:8080/"
        },
        "id": "74wm6Ixcg9QR",
        "outputId": "12fdd497-b817-4e5a-c0ac-06d419acaba0"
      },
      "source": [
        "#Função que generaliza os titles pouco frequentes, substituindo-os por 'Misc'\n",
        "data1['Title']=data1['Title'].apply(lambda x: 'Misc' if title_names.loc[x]==True else x)\n",
        "print(data1['Title'].value_counts())"
      ],
      "execution_count": 124,
      "outputs": [
        {
          "output_type": "stream",
          "text": [
            "Mr        517\n",
            "Miss      182\n",
            "Mrs       125\n",
            "Master     40\n",
            "Misc       27\n",
            "Name: Title, dtype: int64\n"
          ],
          "name": "stdout"
        }
      ]
    },
    {
      "cell_type": "code",
      "metadata": {
        "colab": {
          "base_uri": "https://localhost:8080/"
        },
        "id": "z1Z-HJDchpBc",
        "outputId": "8f0c0be8-6861-4ce4-9798-535d2044f451"
      },
      "source": [
        "data1.info()\n",
        "print('='*50)\n",
        "data_val.info()"
      ],
      "execution_count": 125,
      "outputs": [
        {
          "output_type": "stream",
          "text": [
            "<class 'pandas.core.frame.DataFrame'>\n",
            "RangeIndex: 891 entries, 0 to 890\n",
            "Data columns (total 14 columns):\n",
            " #   Column      Non-Null Count  Dtype   \n",
            "---  ------      --------------  -----   \n",
            " 0   Survived    891 non-null    int64   \n",
            " 1   Pclass      891 non-null    int64   \n",
            " 2   Name        891 non-null    object  \n",
            " 3   Sex         891 non-null    object  \n",
            " 4   Age         891 non-null    float64 \n",
            " 5   SibSp       891 non-null    int64   \n",
            " 6   Parch       891 non-null    int64   \n",
            " 7   Fare        891 non-null    float64 \n",
            " 8   Embarked    891 non-null    object  \n",
            " 9   FamilySize  891 non-null    int64   \n",
            " 10  IsAlone     891 non-null    int64   \n",
            " 11  Title       891 non-null    object  \n",
            " 12  FareBin     891 non-null    category\n",
            " 13  AgeBin      891 non-null    category\n",
            "dtypes: category(2), float64(2), int64(6), object(4)\n",
            "memory usage: 85.8+ KB\n",
            "==================================================\n",
            "<class 'pandas.core.frame.DataFrame'>\n",
            "RangeIndex: 418 entries, 0 to 417\n",
            "Data columns (total 16 columns):\n",
            " #   Column       Non-Null Count  Dtype   \n",
            "---  ------       --------------  -----   \n",
            " 0   PassengerId  418 non-null    int64   \n",
            " 1   Pclass       418 non-null    int64   \n",
            " 2   Name         418 non-null    object  \n",
            " 3   Sex          418 non-null    object  \n",
            " 4   Age          418 non-null    float64 \n",
            " 5   SibSp        418 non-null    int64   \n",
            " 6   Parch        418 non-null    int64   \n",
            " 7   Ticket       418 non-null    object  \n",
            " 8   Fare         418 non-null    float64 \n",
            " 9   Cabin        91 non-null     object  \n",
            " 10  Embarked     418 non-null    object  \n",
            " 11  FamilySize   418 non-null    int64   \n",
            " 12  IsAlone      418 non-null    int64   \n",
            " 13  Title        418 non-null    object  \n",
            " 14  FareBin      418 non-null    category\n",
            " 15  AgeBin       418 non-null    category\n",
            "dtypes: category(2), float64(2), int64(6), object(6)\n",
            "memory usage: 47.1+ KB\n"
          ],
          "name": "stdout"
        }
      ]
    },
    {
      "cell_type": "markdown",
      "metadata": {
        "id": "xmMedLfdh6zD"
      },
      "source": [
        "#Converter\n"
      ]
    },
    {
      "cell_type": "code",
      "metadata": {
        "id": "YdqGaPc7h3Cr"
      },
      "source": [
        "label= LabelEncoder()\n",
        "\n",
        "for dataset in data_cleaner:\n",
        "  dataset['Sex_Code']=label.fit_transform(dataset['Sex'])\n",
        "  dataset['Embarked_Code'] = label.fit_transform(dataset['Embarked'])\n",
        "  dataset['Title_Code'] = label.fit_transform(dataset['Title'])\n",
        "  dataset['AgeBin_Code'] = label.fit_transform(dataset['AgeBin'])\n",
        "  dataset['FareBin_Code'] = label.fit_transform(dataset['FareBin'])"
      ],
      "execution_count": 126,
      "outputs": []
    },
    {
      "cell_type": "code",
      "metadata": {
        "id": "S3ufjKYuieac"
      },
      "source": [
        "#definindo variavel target\n",
        "\n",
        "Target=['Survived']\n"
      ],
      "execution_count": 127,
      "outputs": []
    },
    {
      "cell_type": "code",
      "metadata": {
        "colab": {
          "base_uri": "https://localhost:8080/"
        },
        "id": "AEYbxgSpilYU",
        "outputId": "cbdf3b9e-63a2-4b6d-8400-0039a422b175"
      },
      "source": [
        "#Selecionando colunas que já foram alteradas\n",
        "data1_x = ['Sex','Pclass', 'Embarked', 'Title','SibSp', 'Parch', 'Age', 'Fare', 'FamilySize', 'IsAlone'] # Nomes para gráficos\n",
        "data1_x_calc = ['Sex_Code','Pclass', 'Embarked_Code', 'Title_Code','SibSp', 'Parch', 'Age', 'Fare'] # modelos preditivos\n",
        "data1_xy =  Target + data1_x\n",
        "data1_xy"
      ],
      "execution_count": 128,
      "outputs": [
        {
          "output_type": "execute_result",
          "data": {
            "text/plain": [
              "['Survived',\n",
              " 'Sex',\n",
              " 'Pclass',\n",
              " 'Embarked',\n",
              " 'Title',\n",
              " 'SibSp',\n",
              " 'Parch',\n",
              " 'Age',\n",
              " 'Fare',\n",
              " 'FamilySize',\n",
              " 'IsAlone']"
            ]
          },
          "metadata": {
            "tags": []
          },
          "execution_count": 128
        }
      ]
    },
    {
      "cell_type": "code",
      "metadata": {
        "colab": {
          "base_uri": "https://localhost:8080/"
        },
        "id": "W7Ge4MSwi6vr",
        "outputId": "0818b835-38d0-42c6-844f-8a3be690ad5d"
      },
      "source": [
        "# Variáveis a substituir, com LabelEncoder\n",
        "data1_x_bin = ['Sex_Code','Pclass', 'Embarked_Code', 'Title_Code', 'FamilySize', 'AgeBin_Code', 'FareBin_Code']\n",
        "data1_xy_bin = Target + data1_x_bin\n",
        "data1_xy_bin"
      ],
      "execution_count": 129,
      "outputs": [
        {
          "output_type": "execute_result",
          "data": {
            "text/plain": [
              "['Survived',\n",
              " 'Sex_Code',\n",
              " 'Pclass',\n",
              " 'Embarked_Code',\n",
              " 'Title_Code',\n",
              " 'FamilySize',\n",
              " 'AgeBin_Code',\n",
              " 'FareBin_Code']"
            ]
          },
          "metadata": {
            "tags": []
          },
          "execution_count": 129
        }
      ]
    },
    {
      "cell_type": "code",
      "metadata": {
        "colab": {
          "base_uri": "https://localhost:8080/",
          "height": 224
        },
        "id": "FCm2gxtFjArd",
        "outputId": "b45a6415-8b37-4db8-e6ed-1a5065a7c3c4"
      },
      "source": [
        "# Variáveis dummy\n",
        "data1_dummy = pd.get_dummies(data1[data1_x])\n",
        "data1_x_dummy = data1_dummy.columns.tolist()\n",
        "data1_xy_dummy = Target + data1_x_dummy\n",
        "data1_dummy.head()"
      ],
      "execution_count": 130,
      "outputs": [
        {
          "output_type": "execute_result",
          "data": {
            "text/html": [
              "<div>\n",
              "<style scoped>\n",
              "    .dataframe tbody tr th:only-of-type {\n",
              "        vertical-align: middle;\n",
              "    }\n",
              "\n",
              "    .dataframe tbody tr th {\n",
              "        vertical-align: top;\n",
              "    }\n",
              "\n",
              "    .dataframe thead th {\n",
              "        text-align: right;\n",
              "    }\n",
              "</style>\n",
              "<table border=\"1\" class=\"dataframe\">\n",
              "  <thead>\n",
              "    <tr style=\"text-align: right;\">\n",
              "      <th></th>\n",
              "      <th>Pclass</th>\n",
              "      <th>SibSp</th>\n",
              "      <th>Parch</th>\n",
              "      <th>Age</th>\n",
              "      <th>Fare</th>\n",
              "      <th>FamilySize</th>\n",
              "      <th>IsAlone</th>\n",
              "      <th>Sex_female</th>\n",
              "      <th>Sex_male</th>\n",
              "      <th>Embarked_C</th>\n",
              "      <th>Embarked_Q</th>\n",
              "      <th>Embarked_S</th>\n",
              "      <th>Title_Master</th>\n",
              "      <th>Title_Misc</th>\n",
              "      <th>Title_Miss</th>\n",
              "      <th>Title_Mr</th>\n",
              "      <th>Title_Mrs</th>\n",
              "    </tr>\n",
              "  </thead>\n",
              "  <tbody>\n",
              "    <tr>\n",
              "      <th>0</th>\n",
              "      <td>3</td>\n",
              "      <td>1</td>\n",
              "      <td>0</td>\n",
              "      <td>22.0</td>\n",
              "      <td>7.2500</td>\n",
              "      <td>2</td>\n",
              "      <td>0</td>\n",
              "      <td>0</td>\n",
              "      <td>1</td>\n",
              "      <td>0</td>\n",
              "      <td>0</td>\n",
              "      <td>1</td>\n",
              "      <td>0</td>\n",
              "      <td>0</td>\n",
              "      <td>0</td>\n",
              "      <td>1</td>\n",
              "      <td>0</td>\n",
              "    </tr>\n",
              "    <tr>\n",
              "      <th>1</th>\n",
              "      <td>1</td>\n",
              "      <td>1</td>\n",
              "      <td>0</td>\n",
              "      <td>38.0</td>\n",
              "      <td>71.2833</td>\n",
              "      <td>2</td>\n",
              "      <td>0</td>\n",
              "      <td>1</td>\n",
              "      <td>0</td>\n",
              "      <td>1</td>\n",
              "      <td>0</td>\n",
              "      <td>0</td>\n",
              "      <td>0</td>\n",
              "      <td>0</td>\n",
              "      <td>0</td>\n",
              "      <td>0</td>\n",
              "      <td>1</td>\n",
              "    </tr>\n",
              "    <tr>\n",
              "      <th>2</th>\n",
              "      <td>3</td>\n",
              "      <td>0</td>\n",
              "      <td>0</td>\n",
              "      <td>26.0</td>\n",
              "      <td>7.9250</td>\n",
              "      <td>1</td>\n",
              "      <td>1</td>\n",
              "      <td>1</td>\n",
              "      <td>0</td>\n",
              "      <td>0</td>\n",
              "      <td>0</td>\n",
              "      <td>1</td>\n",
              "      <td>0</td>\n",
              "      <td>0</td>\n",
              "      <td>1</td>\n",
              "      <td>0</td>\n",
              "      <td>0</td>\n",
              "    </tr>\n",
              "    <tr>\n",
              "      <th>3</th>\n",
              "      <td>1</td>\n",
              "      <td>1</td>\n",
              "      <td>0</td>\n",
              "      <td>35.0</td>\n",
              "      <td>53.1000</td>\n",
              "      <td>2</td>\n",
              "      <td>0</td>\n",
              "      <td>1</td>\n",
              "      <td>0</td>\n",
              "      <td>0</td>\n",
              "      <td>0</td>\n",
              "      <td>1</td>\n",
              "      <td>0</td>\n",
              "      <td>0</td>\n",
              "      <td>0</td>\n",
              "      <td>0</td>\n",
              "      <td>1</td>\n",
              "    </tr>\n",
              "    <tr>\n",
              "      <th>4</th>\n",
              "      <td>3</td>\n",
              "      <td>0</td>\n",
              "      <td>0</td>\n",
              "      <td>35.0</td>\n",
              "      <td>8.0500</td>\n",
              "      <td>1</td>\n",
              "      <td>1</td>\n",
              "      <td>0</td>\n",
              "      <td>1</td>\n",
              "      <td>0</td>\n",
              "      <td>0</td>\n",
              "      <td>1</td>\n",
              "      <td>0</td>\n",
              "      <td>0</td>\n",
              "      <td>0</td>\n",
              "      <td>1</td>\n",
              "      <td>0</td>\n",
              "    </tr>\n",
              "  </tbody>\n",
              "</table>\n",
              "</div>"
            ],
            "text/plain": [
              "   Pclass  SibSp  Parch   Age  ...  Title_Misc  Title_Miss  Title_Mr  Title_Mrs\n",
              "0       3      1      0  22.0  ...           0           0         1          0\n",
              "1       1      1      0  38.0  ...           0           0         0          1\n",
              "2       3      0      0  26.0  ...           0           1         0          0\n",
              "3       1      1      0  35.0  ...           0           0         0          1\n",
              "4       3      0      0  35.0  ...           0           0         1          0\n",
              "\n",
              "[5 rows x 17 columns]"
            ]
          },
          "metadata": {
            "tags": []
          },
          "execution_count": 130
        }
      ]
    },
    {
      "cell_type": "markdown",
      "metadata": {
        "id": "7vOv5Chjj91n"
      },
      "source": [
        "Analise exploratória: estatística e dataviz"
      ]
    },
    {
      "cell_type": "code",
      "metadata": {
        "colab": {
          "base_uri": "https://localhost:8080/"
        },
        "id": "cjTBqk5wjT4V",
        "outputId": "acf8855f-5b86-4d8f-d30d-c4b4a86f66c0"
      },
      "source": [
        "data1_x"
      ],
      "execution_count": 131,
      "outputs": [
        {
          "output_type": "execute_result",
          "data": {
            "text/plain": [
              "['Sex',\n",
              " 'Pclass',\n",
              " 'Embarked',\n",
              " 'Title',\n",
              " 'SibSp',\n",
              " 'Parch',\n",
              " 'Age',\n",
              " 'Fare',\n",
              " 'FamilySize',\n",
              " 'IsAlone']"
            ]
          },
          "metadata": {
            "tags": []
          },
          "execution_count": 131
        }
      ]
    },
    {
      "cell_type": "code",
      "metadata": {
        "colab": {
          "base_uri": "https://localhost:8080/"
        },
        "id": "dVxKeDNMlZsU",
        "outputId": "40b9d134-b7f7-4dfa-dfee-bfa7be6ecc57"
      },
      "source": [
        "# Correlação por sobrevivência\n",
        "# https://pandas.pydata.org/pandas-docs/stable/generated/pandas.DataFrame.groupby.html\n",
        "for x in data1_x:\n",
        "    if data1[x].dtype != 'float64' :\n",
        "        print('Correlação sobrevivência:', x)\n",
        "        print(data1[[x, Target[0]]].groupby(x, as_index=False).mean())\n",
        "        print('-'*10, '\\n')\n",
        "        \n",
        "\n",
        "#crosstabs: https://pandas.pydata.org/pandas-docs/stable/generated/pandas.crosstab.html\n",
        "print(pd.crosstab(data1['Title'],data1[Target[0]]))"
      ],
      "execution_count": 132,
      "outputs": [
        {
          "output_type": "stream",
          "text": [
            "Correlação sobrevivência: Sex\n",
            "      Sex  Survived\n",
            "0  female  0.742038\n",
            "1    male  0.188908\n",
            "---------- \n",
            "\n",
            "Correlação sobrevivência: Pclass\n",
            "   Pclass  Survived\n",
            "0       1  0.629630\n",
            "1       2  0.472826\n",
            "2       3  0.242363\n",
            "---------- \n",
            "\n",
            "Correlação sobrevivência: Embarked\n",
            "  Embarked  Survived\n",
            "0        C  0.553571\n",
            "1        Q  0.389610\n",
            "2        S  0.339009\n",
            "---------- \n",
            "\n",
            "Correlação sobrevivência: Title\n",
            "    Title  Survived\n",
            "0  Master  0.575000\n",
            "1    Misc  0.444444\n",
            "2    Miss  0.697802\n",
            "3      Mr  0.156673\n",
            "4     Mrs  0.792000\n",
            "---------- \n",
            "\n",
            "Correlação sobrevivência: SibSp\n",
            "   SibSp  Survived\n",
            "0      0  0.345395\n",
            "1      1  0.535885\n",
            "2      2  0.464286\n",
            "3      3  0.250000\n",
            "4      4  0.166667\n",
            "5      5  0.000000\n",
            "6      8  0.000000\n",
            "---------- \n",
            "\n",
            "Correlação sobrevivência: Parch\n",
            "   Parch  Survived\n",
            "0      0  0.343658\n",
            "1      1  0.550847\n",
            "2      2  0.500000\n",
            "3      3  0.600000\n",
            "4      4  0.000000\n",
            "5      5  0.200000\n",
            "6      6  0.000000\n",
            "---------- \n",
            "\n",
            "Correlação sobrevivência: FamilySize\n",
            "   FamilySize  Survived\n",
            "0           1  0.303538\n",
            "1           2  0.552795\n",
            "2           3  0.578431\n",
            "3           4  0.724138\n",
            "4           5  0.200000\n",
            "5           6  0.136364\n",
            "6           7  0.333333\n",
            "7           8  0.000000\n",
            "8          11  0.000000\n",
            "---------- \n",
            "\n",
            "Correlação sobrevivência: IsAlone\n",
            "   IsAlone  Survived\n",
            "0        0  0.505650\n",
            "1        1  0.303538\n",
            "---------- \n",
            "\n",
            "Survived    0    1\n",
            "Title             \n",
            "Master     17   23\n",
            "Misc       15   12\n",
            "Miss       55  127\n",
            "Mr        436   81\n",
            "Mrs        26   99\n"
          ],
          "name": "stdout"
        }
      ]
    },
    {
      "cell_type": "code",
      "metadata": {
        "colab": {
          "base_uri": "https://localhost:8080/",
          "height": 419
        },
        "id": "z8RcA3MimJDW",
        "outputId": "1ef829f1-9af7-467f-d6e2-41b9afc19cbb"
      },
      "source": [
        "\n",
        "data1[[x, Target[0]]]"
      ],
      "execution_count": 133,
      "outputs": [
        {
          "output_type": "execute_result",
          "data": {
            "text/html": [
              "<div>\n",
              "<style scoped>\n",
              "    .dataframe tbody tr th:only-of-type {\n",
              "        vertical-align: middle;\n",
              "    }\n",
              "\n",
              "    .dataframe tbody tr th {\n",
              "        vertical-align: top;\n",
              "    }\n",
              "\n",
              "    .dataframe thead th {\n",
              "        text-align: right;\n",
              "    }\n",
              "</style>\n",
              "<table border=\"1\" class=\"dataframe\">\n",
              "  <thead>\n",
              "    <tr style=\"text-align: right;\">\n",
              "      <th></th>\n",
              "      <th>IsAlone</th>\n",
              "      <th>Survived</th>\n",
              "    </tr>\n",
              "  </thead>\n",
              "  <tbody>\n",
              "    <tr>\n",
              "      <th>0</th>\n",
              "      <td>0</td>\n",
              "      <td>0</td>\n",
              "    </tr>\n",
              "    <tr>\n",
              "      <th>1</th>\n",
              "      <td>0</td>\n",
              "      <td>1</td>\n",
              "    </tr>\n",
              "    <tr>\n",
              "      <th>2</th>\n",
              "      <td>1</td>\n",
              "      <td>1</td>\n",
              "    </tr>\n",
              "    <tr>\n",
              "      <th>3</th>\n",
              "      <td>0</td>\n",
              "      <td>1</td>\n",
              "    </tr>\n",
              "    <tr>\n",
              "      <th>4</th>\n",
              "      <td>1</td>\n",
              "      <td>0</td>\n",
              "    </tr>\n",
              "    <tr>\n",
              "      <th>...</th>\n",
              "      <td>...</td>\n",
              "      <td>...</td>\n",
              "    </tr>\n",
              "    <tr>\n",
              "      <th>886</th>\n",
              "      <td>1</td>\n",
              "      <td>0</td>\n",
              "    </tr>\n",
              "    <tr>\n",
              "      <th>887</th>\n",
              "      <td>1</td>\n",
              "      <td>1</td>\n",
              "    </tr>\n",
              "    <tr>\n",
              "      <th>888</th>\n",
              "      <td>0</td>\n",
              "      <td>0</td>\n",
              "    </tr>\n",
              "    <tr>\n",
              "      <th>889</th>\n",
              "      <td>1</td>\n",
              "      <td>1</td>\n",
              "    </tr>\n",
              "    <tr>\n",
              "      <th>890</th>\n",
              "      <td>1</td>\n",
              "      <td>0</td>\n",
              "    </tr>\n",
              "  </tbody>\n",
              "</table>\n",
              "<p>891 rows × 2 columns</p>\n",
              "</div>"
            ],
            "text/plain": [
              "     IsAlone  Survived\n",
              "0          0         0\n",
              "1          0         1\n",
              "2          1         1\n",
              "3          0         1\n",
              "4          1         0\n",
              "..       ...       ...\n",
              "886        1         0\n",
              "887        1         1\n",
              "888        0         0\n",
              "889        1         1\n",
              "890        1         0\n",
              "\n",
              "[891 rows x 2 columns]"
            ]
          },
          "metadata": {
            "tags": []
          },
          "execution_count": 133
        }
      ]
    },
    {
      "cell_type": "code",
      "metadata": {
        "colab": {
          "base_uri": "https://localhost:8080/",
          "height": 111
        },
        "id": "raHLl241m3es",
        "outputId": "30f62886-1978-44c5-967e-4facaca11166"
      },
      "source": [
        "data1[[x, Target[0]]].groupby(x, as_index=False).mean()"
      ],
      "execution_count": 134,
      "outputs": [
        {
          "output_type": "execute_result",
          "data": {
            "text/html": [
              "<div>\n",
              "<style scoped>\n",
              "    .dataframe tbody tr th:only-of-type {\n",
              "        vertical-align: middle;\n",
              "    }\n",
              "\n",
              "    .dataframe tbody tr th {\n",
              "        vertical-align: top;\n",
              "    }\n",
              "\n",
              "    .dataframe thead th {\n",
              "        text-align: right;\n",
              "    }\n",
              "</style>\n",
              "<table border=\"1\" class=\"dataframe\">\n",
              "  <thead>\n",
              "    <tr style=\"text-align: right;\">\n",
              "      <th></th>\n",
              "      <th>IsAlone</th>\n",
              "      <th>Survived</th>\n",
              "    </tr>\n",
              "  </thead>\n",
              "  <tbody>\n",
              "    <tr>\n",
              "      <th>0</th>\n",
              "      <td>0</td>\n",
              "      <td>0.505650</td>\n",
              "    </tr>\n",
              "    <tr>\n",
              "      <th>1</th>\n",
              "      <td>1</td>\n",
              "      <td>0.303538</td>\n",
              "    </tr>\n",
              "  </tbody>\n",
              "</table>\n",
              "</div>"
            ],
            "text/plain": [
              "   IsAlone  Survived\n",
              "0        0  0.505650\n",
              "1        1  0.303538"
            ]
          },
          "metadata": {
            "tags": []
          },
          "execution_count": 134
        }
      ]
    },
    {
      "cell_type": "code",
      "metadata": {
        "colab": {
          "base_uri": "https://localhost:8080/",
          "height": 242
        },
        "id": "htQP4U_3nPUu",
        "outputId": "8ba195db-3460-4e80-aaaa-c94e762a0f4a"
      },
      "source": [
        "# Distribuição por idade: sobreviventes/não-sobreviventes\n",
        "a = sns.FacetGrid( data1, hue = 'Survived', aspect=4 )\n",
        "a.map(sns.kdeplot, 'Age', shade= True )\n",
        "a.set(xlim=(0 , data1['Age'].max()))\n",
        "a.add_legend()\n"
      ],
      "execution_count": 135,
      "outputs": [
        {
          "output_type": "execute_result",
          "data": {
            "text/plain": [
              "<seaborn.axisgrid.FacetGrid at 0x7f50930512d0>"
            ]
          },
          "metadata": {
            "tags": []
          },
          "execution_count": 135
        },
        {
          "output_type": "display_data",
          "data": {
            "image/png": "[encoded data removed]",
            "text/plain": [
              "<Figure size 915.875x216 with 1 Axes>"
            ]
          },
          "metadata": {
            "tags": []
          }
        }
      ]
    },
    {
      "cell_type": "code",
      "metadata": {
        "colab": {
          "base_uri": "https://localhost:8080/",
          "height": 386
        },
        "id": "IDQjkR2ypNnW",
        "outputId": "9c692cf7-aaf0-43d7-920e-30acc4ca0f4a"
      },
      "source": [
        "sns.displot(data1['Age'],kind='hist')\n",
        "#Observe que grande parte dos passageiros tem entre 20 e 35 anos."
      ],
      "execution_count": 136,
      "outputs": [
        {
          "output_type": "execute_result",
          "data": {
            "text/plain": [
              "<seaborn.axisgrid.FacetGrid at 0x7f50937422d0>"
            ]
          },
          "metadata": {
            "tags": []
          },
          "execution_count": 136
        },
        {
          "output_type": "display_data",
          "data": {
            "image/png": "[encoded data removed]",
            "text/plain": [
              "<Figure size 360x360 with 1 Axes>"
            ]
          },
          "metadata": {
            "tags": []
          }
        }
      ]
    },
    {
      "cell_type": "code",
      "metadata": {
        "colab": {
          "base_uri": "https://localhost:8080/",
          "height": 458
        },
        "id": "-zrz5VubGOIb",
        "outputId": "2b6ef066-b473-4a59-9ef8-809e3dd505aa"
      },
      "source": [
        "# Comparativo Sexo/Classe/Idade\n",
        "h = sns.FacetGrid(data1, row = 'Sex', col = 'Pclass', hue = 'Survived')\n",
        "h.map(plt.hist, 'Age', alpha = .75)\n",
        "h.add_legend()\n"
      ],
      "execution_count": 137,
      "outputs": [
        {
          "output_type": "execute_result",
          "data": {
            "text/plain": [
              "<seaborn.axisgrid.FacetGrid at 0x7f5092f2d290>"
            ]
          },
          "metadata": {
            "tags": []
          },
          "execution_count": 137
        },
        {
          "output_type": "display_data",
          "data": {
            "image/png": "[encoded data removed]",
            "text/plain": [
              "<Figure size 699.875x432 with 6 Axes>"
            ]
          },
          "metadata": {
            "tags": []
          }
        }
      ]
    },
    {
      "cell_type": "code",
      "metadata": {
        "colab": {
          "base_uri": "https://localhost:8080/",
          "height": 761
        },
        "id": "ZE9Ak20EGzzB",
        "outputId": "d1a6913f-157e-4fa5-9508-670886e5fc5a"
      },
      "source": [
        "\n",
        "# Heatmap de Correlação\n",
        "def correlation_heatmap(df):\n",
        "    _ , ax = plt.subplots(figsize =(14, 12))\n",
        "    colormap = sns.diverging_palette(220, 10, as_cmap = True)\n",
        "    \n",
        "    _ = sns.heatmap(\n",
        "        df.corr(), \n",
        "        cmap = colormap,\n",
        "        square=True, \n",
        "        cbar_kws={'shrink':.9 }, \n",
        "        ax=ax,\n",
        "        annot=True, \n",
        "        linewidths=0.1,vmax=1.0, linecolor='white',\n",
        "        annot_kws={'fontsize':12 }\n",
        "    )\n",
        "    \n",
        "    plt.title('Heatmap Correlação Pearson', y=1.05, size=15)\n",
        "\n",
        "correlation_heatmap(data1)\n"
      ],
      "execution_count": 138,
      "outputs": [
        {
          "output_type": "display_data",
          "data": {
            "image/png": "[encoded data removed]",
            "text/plain": [
              "<Figure size 1008x864 with 2 Axes>"
            ]
          },
          "metadata": {
            "tags": []
          }
        }
      ]
    },
    {
      "cell_type": "code",
      "metadata": {
        "id": "iGKCaeMmHEwo"
      },
      "source": [
        "\n",
        "# Instanciar diversos algoritmos de CLASSIFICAÇÃO\n",
        "MLA = [\n",
        "    #Ensemble Methods\n",
        "    ensemble.AdaBoostClassifier(),\n",
        "    ensemble.BaggingClassifier(),\n",
        "    ensemble.ExtraTreesClassifier(),\n",
        "    ensemble.GradientBoostingClassifier(),\n",
        "    ensemble.RandomForestClassifier(),\n",
        "\n",
        "    #Gaussian Processes\n",
        "    gaussian_process.GaussianProcessClassifier(),\n",
        "    \n",
        "    #GLM\n",
        "    linear_model.LogisticRegressionCV(),\n",
        "    linear_model.PassiveAggressiveClassifier(),\n",
        "    linear_model.RidgeClassifierCV(),\n",
        "    linear_model.SGDClassifier(),\n",
        "    linear_model.Perceptron(),\n",
        "    \n",
        "    #Navies Bayes\n",
        "    naive_bayes.BernoulliNB(),\n",
        "    naive_bayes.GaussianNB(),\n",
        "    \n",
        "    #Nearest Neighbor\n",
        "    neighbors.KNeighborsClassifier(),\n",
        "    \n",
        "    #SVM\n",
        "    svm.SVC(probability=True),\n",
        "    svm.NuSVC(probability=True),\n",
        "    svm.LinearSVC(),\n",
        "    \n",
        "    #Trees    \n",
        "    tree.DecisionTreeClassifier(),\n",
        "    tree.ExtraTreeClassifier(),\n",
        "    \n",
        "    #Discriminant Analysis\n",
        "    discriminant_analysis.LinearDiscriminantAnalysis(),\n",
        "    discriminant_analysis.QuadraticDiscriminantAnalysis(),\n",
        "\n",
        "    #xgboost: http://xgboost.readthedocs.io/en/latest/model.html\n",
        "    XGBClassifier()    \n",
        "    ]\n",
        "    \n"
      ],
      "execution_count": 139,
      "outputs": []
    },
    {
      "cell_type": "code",
      "metadata": {
        "id": "svnn2r6eHMvw"
      },
      "source": [
        "\n",
        "# splitter http://scikit-learn.org/stable/modules/generated/sklearn.model_selection.ShuffleSplit.html#sklearn.model_selection.ShuffleSplit\n",
        "cv_split = model_selection.ShuffleSplit(n_splits = 10, test_size = .3, train_size = .6, random_state = 0 ) \n",
        "\n",
        "# comparar métricas\n",
        "MLA_columns = ['MLA Nome', 'MLA Parametros','Acurácia média TREINO', 'Acurácia média TESTE', 'TEMPO UTILIZADO(média)']\n",
        "MLA_compare = pd.DataFrame(columns = MLA_columns)\n",
        "\n",
        "# comparar predições\n",
        "MLA_predict = data1[Target]\n",
        "\n",
        "# salvamos performance na tabela\n",
        "row_index = 0\n"
      ],
      "execution_count": 140,
      "outputs": []
    },
    {
      "cell_type": "code",
      "metadata": {
        "id": "kvwoEFQBHXgJ"
      },
      "source": [
        "\n",
        "for alg in MLA:\n",
        "\n",
        "    # setamos nome do algoritmo e parametros\n",
        "    MLA_name = alg.__class__.__name__\n",
        "    MLA_compare.loc[row_index, 'MLA Nome'] = MLA_name\n",
        "    MLA_compare.loc[row_index, 'MLA Parametros'] = str(alg.get_params())\n",
        "    \n",
        "    # resultados com cross validation\n",
        "    cv_results = model_selection.cross_validate(alg, data1[data1_x_bin], data1[Target], cv=cv_split, return_train_score=True)\n",
        "\n",
        "    MLA_compare.loc[row_index, 'TEMPO UTILIZADO(média)'] = cv_results['fit_time'].mean()\n",
        "    MLA_compare.loc[row_index, 'Acurácia média TREINO'] = cv_results['train_score'].mean()\n",
        "    MLA_compare.loc[row_index, 'Acurácia média TESTE'] = cv_results['test_score'].mean()     \n",
        "\n",
        "    # salvamos as predições, algoritmo por algoritmo\n",
        "    alg.fit(data1[data1_x_bin], data1[Target])\n",
        "    MLA_predict[MLA_name] = alg.predict(data1[data1_x_bin])\n",
        "    \n",
        "    row_index+=1"
      ],
      "execution_count": 141,
      "outputs": []
    },
    {
      "cell_type": "code",
      "metadata": {
        "colab": {
          "base_uri": "https://localhost:8080/",
          "height": 1000
        },
        "id": "P7pCcxPPHcJo",
        "outputId": "e7c625cf-735b-44d0-a39e-59f3cd1425f0"
      },
      "source": [
        "\n",
        "MLA_compare.sort_values(by = ['Acurácia média TESTE'], ascending = False, inplace = True)\n",
        "MLA_compare"
      ],
      "execution_count": 142,
      "outputs": [
        {
          "output_type": "execute_result",
          "data": {
            "text/html": [
              "<div>\n",
              "<style scoped>\n",
              "    .dataframe tbody tr th:only-of-type {\n",
              "        vertical-align: middle;\n",
              "    }\n",
              "\n",
              "    .dataframe tbody tr th {\n",
              "        vertical-align: top;\n",
              "    }\n",
              "\n",
              "    .dataframe thead th {\n",
              "        text-align: right;\n",
              "    }\n",
              "</style>\n",
              "<table border=\"1\" class=\"dataframe\">\n",
              "  <thead>\n",
              "    <tr style=\"text-align: right;\">\n",
              "      <th></th>\n",
              "      <th>MLA Nome</th>\n",
              "      <th>MLA Parametros</th>\n",
              "      <th>Acurácia média TREINO</th>\n",
              "      <th>Acurácia média TESTE</th>\n",
              "      <th>TEMPO UTILIZADO(média)</th>\n",
              "    </tr>\n",
              "  </thead>\n",
              "  <tbody>\n",
              "    <tr>\n",
              "      <th>21</th>\n",
              "      <td>XGBClassifier</td>\n",
              "      <td>{'base_score': 0.5, 'booster': 'gbtree', 'cols...</td>\n",
              "      <td>0.856367</td>\n",
              "      <td>0.829478</td>\n",
              "      <td>0.0285049</td>\n",
              "    </tr>\n",
              "    <tr>\n",
              "      <th>4</th>\n",
              "      <td>RandomForestClassifier</td>\n",
              "      <td>{'bootstrap': True, 'ccp_alpha': 0.0, 'class_w...</td>\n",
              "      <td>0.895131</td>\n",
              "      <td>0.827985</td>\n",
              "      <td>0.147565</td>\n",
              "    </tr>\n",
              "    <tr>\n",
              "      <th>14</th>\n",
              "      <td>SVC</td>\n",
              "      <td>{'C': 1.0, 'break_ties': False, 'cache_size': ...</td>\n",
              "      <td>0.835206</td>\n",
              "      <td>0.827612</td>\n",
              "      <td>0.0429089</td>\n",
              "    </tr>\n",
              "    <tr>\n",
              "      <th>15</th>\n",
              "      <td>NuSVC</td>\n",
              "      <td>{'break_ties': False, 'cache_size': 200, 'clas...</td>\n",
              "      <td>0.834082</td>\n",
              "      <td>0.826119</td>\n",
              "      <td>0.0504002</td>\n",
              "    </tr>\n",
              "    <tr>\n",
              "      <th>2</th>\n",
              "      <td>ExtraTreesClassifier</td>\n",
              "      <td>{'bootstrap': False, 'ccp_alpha': 0.0, 'class_...</td>\n",
              "      <td>0.895131</td>\n",
              "      <td>0.824627</td>\n",
              "      <td>0.113009</td>\n",
              "    </tr>\n",
              "    <tr>\n",
              "      <th>3</th>\n",
              "      <td>GradientBoostingClassifier</td>\n",
              "      <td>{'ccp_alpha': 0.0, 'criterion': 'friedman_mse'...</td>\n",
              "      <td>0.866667</td>\n",
              "      <td>0.822015</td>\n",
              "      <td>0.0791861</td>\n",
              "    </tr>\n",
              "    <tr>\n",
              "      <th>17</th>\n",
              "      <td>DecisionTreeClassifier</td>\n",
              "      <td>{'ccp_alpha': 0.0, 'class_weight': None, 'crit...</td>\n",
              "      <td>0.895131</td>\n",
              "      <td>0.821642</td>\n",
              "      <td>0.00250862</td>\n",
              "    </tr>\n",
              "    <tr>\n",
              "      <th>1</th>\n",
              "      <td>BaggingClassifier</td>\n",
              "      <td>{'base_estimator': None, 'bootstrap': True, 'b...</td>\n",
              "      <td>0.889139</td>\n",
              "      <td>0.817537</td>\n",
              "      <td>0.0188966</td>\n",
              "    </tr>\n",
              "    <tr>\n",
              "      <th>13</th>\n",
              "      <td>KNeighborsClassifier</td>\n",
              "      <td>{'algorithm': 'auto', 'leaf_size': 30, 'metric...</td>\n",
              "      <td>0.850375</td>\n",
              "      <td>0.813806</td>\n",
              "      <td>0.0025969</td>\n",
              "    </tr>\n",
              "    <tr>\n",
              "      <th>0</th>\n",
              "      <td>AdaBoostClassifier</td>\n",
              "      <td>{'algorithm': 'SAMME.R', 'base_estimator': Non...</td>\n",
              "      <td>0.820412</td>\n",
              "      <td>0.81194</td>\n",
              "      <td>0.0736959</td>\n",
              "    </tr>\n",
              "    <tr>\n",
              "      <th>5</th>\n",
              "      <td>GaussianProcessClassifier</td>\n",
              "      <td>{'copy_X_train': True, 'kernel': None, 'max_it...</td>\n",
              "      <td>0.871723</td>\n",
              "      <td>0.810448</td>\n",
              "      <td>0.203035</td>\n",
              "    </tr>\n",
              "    <tr>\n",
              "      <th>18</th>\n",
              "      <td>ExtraTreeClassifier</td>\n",
              "      <td>{'ccp_alpha': 0.0, 'class_weight': None, 'crit...</td>\n",
              "      <td>0.895131</td>\n",
              "      <td>0.807836</td>\n",
              "      <td>0.00216441</td>\n",
              "    </tr>\n",
              "    <tr>\n",
              "      <th>20</th>\n",
              "      <td>QuadraticDiscriminantAnalysis</td>\n",
              "      <td>{'priors': None, 'reg_param': 0.0, 'store_cova...</td>\n",
              "      <td>0.821536</td>\n",
              "      <td>0.80709</td>\n",
              "      <td>0.00178378</td>\n",
              "    </tr>\n",
              "    <tr>\n",
              "      <th>8</th>\n",
              "      <td>RidgeClassifierCV</td>\n",
              "      <td>{'alphas': array([ 0.1,  1. , 10. ]), 'class_w...</td>\n",
              "      <td>0.796629</td>\n",
              "      <td>0.79403</td>\n",
              "      <td>0.0035785</td>\n",
              "    </tr>\n",
              "    <tr>\n",
              "      <th>19</th>\n",
              "      <td>LinearDiscriminantAnalysis</td>\n",
              "      <td>{'n_components': None, 'priors': None, 'shrink...</td>\n",
              "      <td>0.796816</td>\n",
              "      <td>0.79403</td>\n",
              "      <td>0.0024648</td>\n",
              "    </tr>\n",
              "    <tr>\n",
              "      <th>16</th>\n",
              "      <td>LinearSVC</td>\n",
              "      <td>{'C': 1.0, 'class_weight': None, 'dual': True,...</td>\n",
              "      <td>0.797378</td>\n",
              "      <td>0.79291</td>\n",
              "      <td>0.0305466</td>\n",
              "    </tr>\n",
              "    <tr>\n",
              "      <th>6</th>\n",
              "      <td>LogisticRegressionCV</td>\n",
              "      <td>{'Cs': 10, 'class_weight': None, 'cv': None, '...</td>\n",
              "      <td>0.797004</td>\n",
              "      <td>0.789179</td>\n",
              "      <td>0.209129</td>\n",
              "    </tr>\n",
              "    <tr>\n",
              "      <th>12</th>\n",
              "      <td>GaussianNB</td>\n",
              "      <td>{'priors': None, 'var_smoothing': 1e-09}</td>\n",
              "      <td>0.794757</td>\n",
              "      <td>0.781343</td>\n",
              "      <td>0.00176697</td>\n",
              "    </tr>\n",
              "    <tr>\n",
              "      <th>11</th>\n",
              "      <td>BernoulliNB</td>\n",
              "      <td>{'alpha': 1.0, 'binarize': 0.0, 'class_prior':...</td>\n",
              "      <td>0.785768</td>\n",
              "      <td>0.775373</td>\n",
              "      <td>0.00209703</td>\n",
              "    </tr>\n",
              "    <tr>\n",
              "      <th>10</th>\n",
              "      <td>Perceptron</td>\n",
              "      <td>{'alpha': 0.0001, 'class_weight': None, 'early...</td>\n",
              "      <td>0.754494</td>\n",
              "      <td>0.744403</td>\n",
              "      <td>0.002508</td>\n",
              "    </tr>\n",
              "    <tr>\n",
              "      <th>9</th>\n",
              "      <td>SGDClassifier</td>\n",
              "      <td>{'alpha': 0.0001, 'average': False, 'class_wei...</td>\n",
              "      <td>0.737079</td>\n",
              "      <td>0.726119</td>\n",
              "      <td>0.00359793</td>\n",
              "    </tr>\n",
              "    <tr>\n",
              "      <th>7</th>\n",
              "      <td>PassiveAggressiveClassifier</td>\n",
              "      <td>{'C': 1.0, 'average': False, 'class_weight': N...</td>\n",
              "      <td>0.713483</td>\n",
              "      <td>0.708582</td>\n",
              "      <td>0.00224304</td>\n",
              "    </tr>\n",
              "  </tbody>\n",
              "</table>\n",
              "</div>"
            ],
            "text/plain": [
              "                         MLA Nome  ... TEMPO UTILIZADO(média)\n",
              "21                  XGBClassifier  ...              0.0285049\n",
              "4          RandomForestClassifier  ...               0.147565\n",
              "14                            SVC  ...              0.0429089\n",
              "15                          NuSVC  ...              0.0504002\n",
              "2            ExtraTreesClassifier  ...               0.113009\n",
              "3      GradientBoostingClassifier  ...              0.0791861\n",
              "17         DecisionTreeClassifier  ...             0.00250862\n",
              "1               BaggingClassifier  ...              0.0188966\n",
              "13           KNeighborsClassifier  ...              0.0025969\n",
              "0              AdaBoostClassifier  ...              0.0736959\n",
              "5       GaussianProcessClassifier  ...               0.203035\n",
              "18            ExtraTreeClassifier  ...             0.00216441\n",
              "20  QuadraticDiscriminantAnalysis  ...             0.00178378\n",
              "8               RidgeClassifierCV  ...              0.0035785\n",
              "19     LinearDiscriminantAnalysis  ...              0.0024648\n",
              "16                      LinearSVC  ...              0.0305466\n",
              "6            LogisticRegressionCV  ...               0.209129\n",
              "12                     GaussianNB  ...             0.00176697\n",
              "11                    BernoulliNB  ...             0.00209703\n",
              "10                     Perceptron  ...               0.002508\n",
              "9                   SGDClassifier  ...             0.00359793\n",
              "7     PassiveAggressiveClassifier  ...             0.00224304\n",
              "\n",
              "[22 rows x 5 columns]"
            ]
          },
          "metadata": {
            "tags": []
          },
          "execution_count": 142
        }
      ]
    },
    {
      "cell_type": "code",
      "metadata": {
        "colab": {
          "base_uri": "https://localhost:8080/",
          "height": 439
        },
        "id": "myE24rn9Hiyg",
        "outputId": "af8969ac-48bc-437b-94a9-e68fdb51631a"
      },
      "source": [
        "MLA_predict"
      ],
      "execution_count": 143,
      "outputs": [
        {
          "output_type": "execute_result",
          "data": {
            "text/html": [
              "<div>\n",
              "<style scoped>\n",
              "    .dataframe tbody tr th:only-of-type {\n",
              "        vertical-align: middle;\n",
              "    }\n",
              "\n",
              "    .dataframe tbody tr th {\n",
              "        vertical-align: top;\n",
              "    }\n",
              "\n",
              "    .dataframe thead th {\n",
              "        text-align: right;\n",
              "    }\n",
              "</style>\n",
              "<table border=\"1\" class=\"dataframe\">\n",
              "  <thead>\n",
              "    <tr style=\"text-align: right;\">\n",
              "      <th></th>\n",
              "      <th>Survived</th>\n",
              "      <th>AdaBoostClassifier</th>\n",
              "      <th>BaggingClassifier</th>\n",
              "      <th>ExtraTreesClassifier</th>\n",
              "      <th>GradientBoostingClassifier</th>\n",
              "      <th>RandomForestClassifier</th>\n",
              "      <th>GaussianProcessClassifier</th>\n",
              "      <th>LogisticRegressionCV</th>\n",
              "      <th>PassiveAggressiveClassifier</th>\n",
              "      <th>RidgeClassifierCV</th>\n",
              "      <th>SGDClassifier</th>\n",
              "      <th>Perceptron</th>\n",
              "      <th>BernoulliNB</th>\n",
              "      <th>GaussianNB</th>\n",
              "      <th>KNeighborsClassifier</th>\n",
              "      <th>SVC</th>\n",
              "      <th>NuSVC</th>\n",
              "      <th>LinearSVC</th>\n",
              "      <th>DecisionTreeClassifier</th>\n",
              "      <th>ExtraTreeClassifier</th>\n",
              "      <th>LinearDiscriminantAnalysis</th>\n",
              "      <th>QuadraticDiscriminantAnalysis</th>\n",
              "      <th>XGBClassifier</th>\n",
              "    </tr>\n",
              "  </thead>\n",
              "  <tbody>\n",
              "    <tr>\n",
              "      <th>0</th>\n",
              "      <td>0</td>\n",
              "      <td>0</td>\n",
              "      <td>0</td>\n",
              "      <td>0</td>\n",
              "      <td>0</td>\n",
              "      <td>0</td>\n",
              "      <td>0</td>\n",
              "      <td>0</td>\n",
              "      <td>0</td>\n",
              "      <td>0</td>\n",
              "      <td>1</td>\n",
              "      <td>0</td>\n",
              "      <td>0</td>\n",
              "      <td>0</td>\n",
              "      <td>0</td>\n",
              "      <td>0</td>\n",
              "      <td>0</td>\n",
              "      <td>0</td>\n",
              "      <td>0</td>\n",
              "      <td>0</td>\n",
              "      <td>0</td>\n",
              "      <td>0</td>\n",
              "      <td>0</td>\n",
              "    </tr>\n",
              "    <tr>\n",
              "      <th>1</th>\n",
              "      <td>1</td>\n",
              "      <td>1</td>\n",
              "      <td>1</td>\n",
              "      <td>1</td>\n",
              "      <td>1</td>\n",
              "      <td>1</td>\n",
              "      <td>1</td>\n",
              "      <td>1</td>\n",
              "      <td>0</td>\n",
              "      <td>1</td>\n",
              "      <td>1</td>\n",
              "      <td>0</td>\n",
              "      <td>1</td>\n",
              "      <td>1</td>\n",
              "      <td>1</td>\n",
              "      <td>1</td>\n",
              "      <td>1</td>\n",
              "      <td>1</td>\n",
              "      <td>1</td>\n",
              "      <td>1</td>\n",
              "      <td>1</td>\n",
              "      <td>1</td>\n",
              "      <td>1</td>\n",
              "    </tr>\n",
              "    <tr>\n",
              "      <th>2</th>\n",
              "      <td>1</td>\n",
              "      <td>1</td>\n",
              "      <td>0</td>\n",
              "      <td>0</td>\n",
              "      <td>0</td>\n",
              "      <td>0</td>\n",
              "      <td>0</td>\n",
              "      <td>1</td>\n",
              "      <td>0</td>\n",
              "      <td>1</td>\n",
              "      <td>1</td>\n",
              "      <td>0</td>\n",
              "      <td>1</td>\n",
              "      <td>1</td>\n",
              "      <td>0</td>\n",
              "      <td>1</td>\n",
              "      <td>1</td>\n",
              "      <td>1</td>\n",
              "      <td>0</td>\n",
              "      <td>0</td>\n",
              "      <td>1</td>\n",
              "      <td>1</td>\n",
              "      <td>0</td>\n",
              "    </tr>\n",
              "    <tr>\n",
              "      <th>3</th>\n",
              "      <td>1</td>\n",
              "      <td>1</td>\n",
              "      <td>1</td>\n",
              "      <td>1</td>\n",
              "      <td>1</td>\n",
              "      <td>1</td>\n",
              "      <td>1</td>\n",
              "      <td>1</td>\n",
              "      <td>0</td>\n",
              "      <td>1</td>\n",
              "      <td>1</td>\n",
              "      <td>0</td>\n",
              "      <td>1</td>\n",
              "      <td>1</td>\n",
              "      <td>1</td>\n",
              "      <td>1</td>\n",
              "      <td>1</td>\n",
              "      <td>1</td>\n",
              "      <td>1</td>\n",
              "      <td>1</td>\n",
              "      <td>1</td>\n",
              "      <td>1</td>\n",
              "      <td>1</td>\n",
              "    </tr>\n",
              "    <tr>\n",
              "      <th>4</th>\n",
              "      <td>0</td>\n",
              "      <td>0</td>\n",
              "      <td>0</td>\n",
              "      <td>0</td>\n",
              "      <td>0</td>\n",
              "      <td>0</td>\n",
              "      <td>0</td>\n",
              "      <td>0</td>\n",
              "      <td>0</td>\n",
              "      <td>0</td>\n",
              "      <td>1</td>\n",
              "      <td>0</td>\n",
              "      <td>0</td>\n",
              "      <td>0</td>\n",
              "      <td>1</td>\n",
              "      <td>0</td>\n",
              "      <td>0</td>\n",
              "      <td>0</td>\n",
              "      <td>0</td>\n",
              "      <td>0</td>\n",
              "      <td>0</td>\n",
              "      <td>0</td>\n",
              "      <td>0</td>\n",
              "    </tr>\n",
              "    <tr>\n",
              "      <th>...</th>\n",
              "      <td>...</td>\n",
              "      <td>...</td>\n",
              "      <td>...</td>\n",
              "      <td>...</td>\n",
              "      <td>...</td>\n",
              "      <td>...</td>\n",
              "      <td>...</td>\n",
              "      <td>...</td>\n",
              "      <td>...</td>\n",
              "      <td>...</td>\n",
              "      <td>...</td>\n",
              "      <td>...</td>\n",
              "      <td>...</td>\n",
              "      <td>...</td>\n",
              "      <td>...</td>\n",
              "      <td>...</td>\n",
              "      <td>...</td>\n",
              "      <td>...</td>\n",
              "      <td>...</td>\n",
              "      <td>...</td>\n",
              "      <td>...</td>\n",
              "      <td>...</td>\n",
              "      <td>...</td>\n",
              "    </tr>\n",
              "    <tr>\n",
              "      <th>886</th>\n",
              "      <td>0</td>\n",
              "      <td>0</td>\n",
              "      <td>0</td>\n",
              "      <td>0</td>\n",
              "      <td>0</td>\n",
              "      <td>0</td>\n",
              "      <td>0</td>\n",
              "      <td>0</td>\n",
              "      <td>0</td>\n",
              "      <td>0</td>\n",
              "      <td>1</td>\n",
              "      <td>0</td>\n",
              "      <td>0</td>\n",
              "      <td>0</td>\n",
              "      <td>0</td>\n",
              "      <td>0</td>\n",
              "      <td>0</td>\n",
              "      <td>0</td>\n",
              "      <td>0</td>\n",
              "      <td>0</td>\n",
              "      <td>0</td>\n",
              "      <td>1</td>\n",
              "      <td>0</td>\n",
              "    </tr>\n",
              "    <tr>\n",
              "      <th>887</th>\n",
              "      <td>1</td>\n",
              "      <td>1</td>\n",
              "      <td>1</td>\n",
              "      <td>1</td>\n",
              "      <td>1</td>\n",
              "      <td>1</td>\n",
              "      <td>1</td>\n",
              "      <td>1</td>\n",
              "      <td>1</td>\n",
              "      <td>1</td>\n",
              "      <td>1</td>\n",
              "      <td>1</td>\n",
              "      <td>1</td>\n",
              "      <td>1</td>\n",
              "      <td>1</td>\n",
              "      <td>1</td>\n",
              "      <td>1</td>\n",
              "      <td>1</td>\n",
              "      <td>1</td>\n",
              "      <td>1</td>\n",
              "      <td>1</td>\n",
              "      <td>1</td>\n",
              "      <td>1</td>\n",
              "    </tr>\n",
              "    <tr>\n",
              "      <th>888</th>\n",
              "      <td>0</td>\n",
              "      <td>0</td>\n",
              "      <td>0</td>\n",
              "      <td>0</td>\n",
              "      <td>0</td>\n",
              "      <td>0</td>\n",
              "      <td>0</td>\n",
              "      <td>1</td>\n",
              "      <td>0</td>\n",
              "      <td>1</td>\n",
              "      <td>1</td>\n",
              "      <td>0</td>\n",
              "      <td>1</td>\n",
              "      <td>1</td>\n",
              "      <td>0</td>\n",
              "      <td>0</td>\n",
              "      <td>0</td>\n",
              "      <td>1</td>\n",
              "      <td>0</td>\n",
              "      <td>0</td>\n",
              "      <td>1</td>\n",
              "      <td>0</td>\n",
              "      <td>0</td>\n",
              "    </tr>\n",
              "    <tr>\n",
              "      <th>889</th>\n",
              "      <td>1</td>\n",
              "      <td>1</td>\n",
              "      <td>0</td>\n",
              "      <td>0</td>\n",
              "      <td>0</td>\n",
              "      <td>0</td>\n",
              "      <td>0</td>\n",
              "      <td>1</td>\n",
              "      <td>0</td>\n",
              "      <td>0</td>\n",
              "      <td>1</td>\n",
              "      <td>0</td>\n",
              "      <td>0</td>\n",
              "      <td>1</td>\n",
              "      <td>0</td>\n",
              "      <td>0</td>\n",
              "      <td>0</td>\n",
              "      <td>1</td>\n",
              "      <td>0</td>\n",
              "      <td>0</td>\n",
              "      <td>0</td>\n",
              "      <td>0</td>\n",
              "      <td>0</td>\n",
              "    </tr>\n",
              "    <tr>\n",
              "      <th>890</th>\n",
              "      <td>0</td>\n",
              "      <td>0</td>\n",
              "      <td>0</td>\n",
              "      <td>0</td>\n",
              "      <td>0</td>\n",
              "      <td>0</td>\n",
              "      <td>0</td>\n",
              "      <td>0</td>\n",
              "      <td>0</td>\n",
              "      <td>0</td>\n",
              "      <td>1</td>\n",
              "      <td>0</td>\n",
              "      <td>0</td>\n",
              "      <td>0</td>\n",
              "      <td>0</td>\n",
              "      <td>0</td>\n",
              "      <td>0</td>\n",
              "      <td>0</td>\n",
              "      <td>0</td>\n",
              "      <td>0</td>\n",
              "      <td>0</td>\n",
              "      <td>0</td>\n",
              "      <td>0</td>\n",
              "    </tr>\n",
              "  </tbody>\n",
              "</table>\n",
              "<p>891 rows × 23 columns</p>\n",
              "</div>"
            ],
            "text/plain": [
              "     Survived  AdaBoostClassifier  ...  QuadraticDiscriminantAnalysis  XGBClassifier\n",
              "0           0                   0  ...                              0              0\n",
              "1           1                   1  ...                              1              1\n",
              "2           1                   1  ...                              1              0\n",
              "3           1                   1  ...                              1              1\n",
              "4           0                   0  ...                              0              0\n",
              "..        ...                 ...  ...                            ...            ...\n",
              "886         0                   0  ...                              1              0\n",
              "887         1                   1  ...                              1              1\n",
              "888         0                   0  ...                              0              0\n",
              "889         1                   1  ...                              0              0\n",
              "890         0                   0  ...                              0              0\n",
              "\n",
              "[891 rows x 23 columns]"
            ]
          },
          "metadata": {
            "tags": []
          },
          "execution_count": 143
        }
      ]
    },
    {
      "cell_type": "code",
      "metadata": {
        "colab": {
          "base_uri": "https://localhost:8080/",
          "height": 550
        },
        "id": "3uD2JwjjHpR6",
        "outputId": "8afe11b1-b9aa-436c-f814-f641e6a0ee57"
      },
      "source": [
        "\n",
        "#barplot seaborn https://seaborn.pydata.org/generated/seaborn.barplot.html\n",
        "sns.barplot(x='Acurácia média TESTE', y = 'MLA Nome', data = MLA_compare, color = 'm')\n",
        "# pyplot: https://matplotlib.org/api/pyplot_api.html\n",
        "plt.title('Score por Algoritmos \\n')\n",
        "plt.xlabel('Accurácia(%)')\n",
        "plt.ylabel('Algoritmo')\n"
      ],
      "execution_count": 144,
      "outputs": [
        {
          "output_type": "execute_result",
          "data": {
            "text/plain": [
              "Text(0, 0.5, 'Algoritmo')"
            ]
          },
          "metadata": {
            "tags": []
          },
          "execution_count": 144
        },
        {
          "output_type": "display_data",
          "data": {
            "image/png": "[encoded data removed]",
            "text/plain": [
              "<Figure size 864x576 with 1 Axes>"
            ]
          },
          "metadata": {
            "tags": []
          }
        }
      ]
    },
    {
      "cell_type": "code",
      "metadata": {
        "colab": {
          "base_uri": "https://localhost:8080/"
        },
        "id": "CmTJL1DPIDd5",
        "outputId": "6533bf63-3a8d-4055-baba-d5b08dbf881c"
      },
      "source": [
        "#utilizaremos o modelo preditivo com melhor desempenho: XGBClassifier\n",
        "\n",
        "#submit_xgb=XGBClassifier(learning_rate=0.01, random_state=2)\n",
        "#metLearn=CalibratedClassifierCV(submit_xgb, method='isotonic', cv=2)\n",
        "#submit_xgb.fit(data1[data1_x_bin],data1[Target])\n",
        "tol=0.001\n",
        "ep=50\n",
        "error=10\n",
        "i=0\n",
        "while error>tol and i<ep:\n",
        "  submit_xgb=XGBClassifier(learning_rate=0.08)\n",
        "  metLearn=CalibratedClassifierCV(submit_xgb, method='isotonic', cv=2)\n",
        "  metLearn.fit(data1[data1_x_bin], data1[Target])\n",
        "  testPredictions = metLearn.predict(data_val[data1_x_bin])\n",
        "  accuracy=metrics.accuracy_score(y_true['Survived'],testPredictions)\n",
        "  error=metrics.mean_absolute_error(y_true['Survived'],testPredictions)\n",
        "  i=i+1\n",
        "  print(f\"Epoch:{i}, Accuracy: {accuracy:.4f}, Mean Absolute Error: {error:.4f}\")\n",
        "data_val['Survived']=metLearn.predict(data_val[data1_x_bin])"
      ],
      "execution_count": 160,
      "outputs": [
        {
          "output_type": "stream",
          "text": [
            "Epoch:1, Accuracy: 0.9426, Mean Absolute Error: 0.0574\n",
            "Epoch:2, Accuracy: 0.9426, Mean Absolute Error: 0.0574\n",
            "Epoch:3, Accuracy: 0.9426, Mean Absolute Error: 0.0574\n",
            "Epoch:4, Accuracy: 0.9426, Mean Absolute Error: 0.0574\n",
            "Epoch:5, Accuracy: 0.9426, Mean Absolute Error: 0.0574\n",
            "Epoch:6, Accuracy: 0.9426, Mean Absolute Error: 0.0574\n",
            "Epoch:7, Accuracy: 0.9426, Mean Absolute Error: 0.0574\n",
            "Epoch:8, Accuracy: 0.9426, Mean Absolute Error: 0.0574\n",
            "Epoch:9, Accuracy: 0.9426, Mean Absolute Error: 0.0574\n",
            "Epoch:10, Accuracy: 0.9426, Mean Absolute Error: 0.0574\n",
            "Epoch:11, Accuracy: 0.9426, Mean Absolute Error: 0.0574\n",
            "Epoch:12, Accuracy: 0.9426, Mean Absolute Error: 0.0574\n",
            "Epoch:13, Accuracy: 0.9426, Mean Absolute Error: 0.0574\n",
            "Epoch:14, Accuracy: 0.9426, Mean Absolute Error: 0.0574\n",
            "Epoch:15, Accuracy: 0.9426, Mean Absolute Error: 0.0574\n",
            "Epoch:16, Accuracy: 0.9426, Mean Absolute Error: 0.0574\n",
            "Epoch:17, Accuracy: 0.9426, Mean Absolute Error: 0.0574\n",
            "Epoch:18, Accuracy: 0.9426, Mean Absolute Error: 0.0574\n",
            "Epoch:19, Accuracy: 0.9426, Mean Absolute Error: 0.0574\n",
            "Epoch:20, Accuracy: 0.9426, Mean Absolute Error: 0.0574\n",
            "Epoch:21, Accuracy: 0.9426, Mean Absolute Error: 0.0574\n",
            "Epoch:22, Accuracy: 0.9426, Mean Absolute Error: 0.0574\n",
            "Epoch:23, Accuracy: 0.9426, Mean Absolute Error: 0.0574\n",
            "Epoch:24, Accuracy: 0.9426, Mean Absolute Error: 0.0574\n",
            "Epoch:25, Accuracy: 0.9426, Mean Absolute Error: 0.0574\n",
            "Epoch:26, Accuracy: 0.9426, Mean Absolute Error: 0.0574\n",
            "Epoch:27, Accuracy: 0.9426, Mean Absolute Error: 0.0574\n",
            "Epoch:28, Accuracy: 0.9426, Mean Absolute Error: 0.0574\n",
            "Epoch:29, Accuracy: 0.9426, Mean Absolute Error: 0.0574\n",
            "Epoch:30, Accuracy: 0.9426, Mean Absolute Error: 0.0574\n",
            "Epoch:31, Accuracy: 0.9426, Mean Absolute Error: 0.0574\n",
            "Epoch:32, Accuracy: 0.9426, Mean Absolute Error: 0.0574\n",
            "Epoch:33, Accuracy: 0.9426, Mean Absolute Error: 0.0574\n",
            "Epoch:34, Accuracy: 0.9426, Mean Absolute Error: 0.0574\n",
            "Epoch:35, Accuracy: 0.9426, Mean Absolute Error: 0.0574\n",
            "Epoch:36, Accuracy: 0.9426, Mean Absolute Error: 0.0574\n",
            "Epoch:37, Accuracy: 0.9426, Mean Absolute Error: 0.0574\n",
            "Epoch:38, Accuracy: 0.9426, Mean Absolute Error: 0.0574\n",
            "Epoch:39, Accuracy: 0.9426, Mean Absolute Error: 0.0574\n",
            "Epoch:40, Accuracy: 0.9426, Mean Absolute Error: 0.0574\n",
            "Epoch:41, Accuracy: 0.9426, Mean Absolute Error: 0.0574\n",
            "Epoch:42, Accuracy: 0.9426, Mean Absolute Error: 0.0574\n",
            "Epoch:43, Accuracy: 0.9426, Mean Absolute Error: 0.0574\n",
            "Epoch:44, Accuracy: 0.9426, Mean Absolute Error: 0.0574\n",
            "Epoch:45, Accuracy: 0.9426, Mean Absolute Error: 0.0574\n",
            "Epoch:46, Accuracy: 0.9426, Mean Absolute Error: 0.0574\n",
            "Epoch:47, Accuracy: 0.9426, Mean Absolute Error: 0.0574\n",
            "Epoch:48, Accuracy: 0.9426, Mean Absolute Error: 0.0574\n",
            "Epoch:49, Accuracy: 0.9426, Mean Absolute Error: 0.0574\n",
            "Epoch:50, Accuracy: 0.9426, Mean Absolute Error: 0.0574\n"
          ],
          "name": "stdout"
        }
      ]
    },
    {
      "cell_type": "code",
      "metadata": {
        "id": "fJXlO9xCXk4P"
      },
      "source": [
        "#submit File\n",
        "submit=data_val[['PassengerId','Survived']]\n",
        "submit.to_csv('submit.csv',index=False)"
      ],
      "execution_count": 161,
      "outputs": []
    }
  ]
}